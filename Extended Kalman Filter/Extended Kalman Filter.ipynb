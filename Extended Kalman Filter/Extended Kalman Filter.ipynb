{
 "cells": [
  {
   "cell_type": "markdown",
   "id": "2cf774aa",
   "metadata": {},
   "source": [
    "## Functions"
   ]
  },
  {
   "cell_type": "markdown",
   "id": "2f0bb5f0",
   "metadata": {},
   "source": [
    "__Function for getting the dynamic parameters of the cell model__"
   ]
  },
  {
   "cell_type": "code",
   "execution_count": 140,
   "id": "743657d9",
   "metadata": {},
   "outputs": [],
   "source": [
    "def get_dyn_param(data,cell_temp):    \n",
    "    \n",
    "    ind = np.where(np.array(data['temps']) == cell_temp)[0][0]\n",
    "\n",
    "    eta = data['etaParam'][ind]\n",
    "    Q = data['QParam'][ind]\n",
    "    gamma = data['GParam'][ind]\n",
    "    M0 = data['M0Param'][ind]\n",
    "    M = data['MParam'][ind]\n",
    "    R0 = data['R0Param'][ind]\n",
    "    RC = data['RCParam'][ind]\n",
    "    RC = np.exp(-np.divide(1,RC))\n",
    "    R = data['RParam'][ind]\n",
    "\n",
    "    return (eta,Q,gamma,M0,M,R0,RC,R)"
   ]
  },
  {
   "cell_type": "markdown",
   "id": "2bf38705",
   "metadata": {},
   "source": [
    "__SOC calculation for any OCV value Function__"
   ]
  },
  {
   "cell_type": "code",
   "execution_count": 141,
   "id": "59345116",
   "metadata": {},
   "outputs": [],
   "source": [
    "from scipy.interpolate import interp1d\n",
    "\n",
    "def interp_ocv(ocv,SOC):\n",
    "    \n",
    "    dum = interp1d(ocv,SOC)\n",
    "    \n",
    "    return dum"
   ]
  },
  {
   "cell_type": "code",
   "execution_count": 142,
   "id": "14942348",
   "metadata": {},
   "outputs": [],
   "source": [
    "def SOC_from_OCV(ocv,temp,OCV,SOC_0,SOC_rel):\n",
    "\n",
    "    # OCV calculation from the given SOC (Coloumb Counting)\n",
    "\n",
    "    SOC_0_ocv = interp_ocv(OCV,SOC_0)(ocv)\n",
    "    SOC_rel_ocv = interp_ocv(OCV,SOC_rel)(ocv)\n",
    "\n",
    "    soc_ocv = SOC_0_ocv + temp*SOC_rel_ocv\n",
    "    \n",
    "\n",
    "    return (soc_ocv)"
   ]
  },
  {
   "cell_type": "markdown",
   "id": "0c4d879a",
   "metadata": {},
   "source": [
    "## Main Code"
   ]
  },
  {
   "cell_type": "markdown",
   "id": "56a8644d",
   "metadata": {},
   "source": [
    "__Model Data__"
   ]
  },
  {
   "cell_type": "code",
   "execution_count": 143,
   "id": "697027c7",
   "metadata": {},
   "outputs": [],
   "source": [
    "model = pd.read_pickle('E2model.pkl')"
   ]
  },
  {
   "cell_type": "markdown",
   "id": "002be53e",
   "metadata": {},
   "source": [
    "__Measurement Data__"
   ]
  },
  {
   "cell_type": "code",
   "execution_count": 144,
   "id": "2e3bab46",
   "metadata": {},
   "outputs": [],
   "source": [
    "measurement = pd.read_pickle('E2_DYN_15_P05.pkl')\n",
    "\n",
    "time = [measurement['script1']['time'] - measurement['script1']['time'][0][0]][0][0]\n",
    "dt = time[1] - time[0]\n",
    "current = measurement['script1']['current'][0]\n",
    "voltage = measurement['script1']['voltage'][0]\n",
    "soc = measurement['script1']['soc'][0] "
   ]
  },
  {
   "cell_type": "markdown",
   "id": "f46e8c8f",
   "metadata": {},
   "source": [
    "__Initial Values for EKF__"
   ]
  },
  {
   "cell_type": "code",
   "execution_count": 145,
   "id": "2fa95587",
   "metadata": {},
   "outputs": [],
   "source": [
    "ekf = {}\n",
    "\n",
    "# Temperature\n",
    "temp = 5 \n",
    "\n",
    "# Co-variance values\n",
    "\n",
    "sigmax = np.diag([1e-6,1e-8,2e-4])\n",
    "sigmav = 2e-1\n",
    "sigmaw = 2e-1 \n",
    "\n",
    "# Cell parameters\n",
    "ir0 = 0\n",
    "h = 0\n",
    "soc = SOC_from_OCV(voltage[0],temp,model['OCV'],model['SOC0'],model['SOCrel']) \n",
    "\n",
    "# Matrix storage index\n",
    "ir_idx = 0\n",
    "hk_idx = 1\n",
    "z_idx = 2\n",
    "\n",
    "Qbump = 5\n",
    "prior_I = 0\n",
    "signik = 0"
   ]
  },
  {
   "cell_type": "code",
   "execution_count": 146,
   "id": "d5036939",
   "metadata": {},
   "outputs": [
    {
     "data": {
      "text/plain": [
       "array([[1.e-06, 0.e+00, 0.e+00],\n",
       "       [0.e+00, 1.e-08, 0.e+00],\n",
       "       [0.e+00, 0.e+00, 2.e-04]])"
      ]
     },
     "execution_count": 146,
     "metadata": {},
     "output_type": "execute_result"
    }
   ],
   "source": [
    "sigmax"
   ]
  },
  {
   "cell_type": "code",
   "execution_count": 147,
   "id": "3afc5ea9",
   "metadata": {},
   "outputs": [],
   "source": [
    "# EKF Model\n",
    "\n",
    "ekf['xhat'] = [ir0,h,soc]\n",
    "ekf['sigmax'] = sigmax\n",
    "ekf['sigmav'] = sigmav\n",
    "ekf['sigmaw'] = sigmaw\n",
    "ekf['Qbump'] = Qbump\n",
    "ekf['prior_I'] = prior_I\n",
    "ekf['signik'] = signik"
   ]
  },
  {
   "cell_type": "code",
   "execution_count": 179,
   "id": "a10b444d",
   "metadata": {},
   "outputs": [],
   "source": [
    "i = 5\n",
    "\n",
    "vk = voltage[i]\n",
    "ik = current[i]\n",
    "Tk = temp\n",
    "\n",
    "\n",
    "# Cell Parameters calculated from dynamic model\n",
    "\n",
    "eta = get_dyn_param(model,temp)[0]  \n",
    "Q = get_dyn_param(model,temp)[1]  \n",
    "gamma = get_dyn_param(model,temp)[2]  \n",
    "M0 = get_dyn_param(model,temp)[3]  \n",
    "M = get_dyn_param(model,temp)[4]  \n",
    "R0 = get_dyn_param(model,temp)[5]  \n",
    "RC = get_dyn_param(model,temp)[6]  \n",
    "R = get_dyn_param(model,temp)[7]\n",
    "\n",
    "# If cell is charging\n",
    "if ik<0:\n",
    "    \n",
    "    ik = eta*ik\n",
    "    \n",
    "    \n",
    "# Finding the previous model state\n",
    "\n",
    "xhat = ekf['xhat']\n",
    "sigmax = ekf['sigmax']\n",
    "sigmav = ekf['sigmav']\n",
    "sigmaw = ekf['sigmaw']\n",
    "Qbump = ekf['Qbump']\n",
    "I = ekf['prior_I']\n",
    "\n",
    "if (np.abs(ik) > Q/100):\n",
    "    \n",
    "    ekf['signik'] = np.sign(ik)\n",
    "    \n",
    "signik = ekf['signik']\n",
    "\n",
    "# ============= EKF matrix calculation ============= \n",
    "\n",
    "nx = len(xhat) + len(RC) -1\n",
    "Ahat = np.zeros((nx,nx))\n",
    "Bhat = np.zeros((nx,2))\n",
    "\n",
    "# SOC EKF matrix\n",
    "Ahat[len(RC)+z_idx - 1,len(RC)+z_idx -1] = 1\n",
    "Bhat[z_idx + len(RC) -1 ,0] = -dt/(Q*3600)\n",
    "\n",
    "# Diffusion current matrix\n",
    "Ahat[:len(RC),:len(RC)] = np.diag(RC.flatten())\n",
    "Bhat[:len(RC),0] = (1-RC).T\n",
    "\n",
    "# Hysterisis matrix\n",
    "Ah = np.exp(-np.abs(I*gamma*dt/(3600*Q)))\n",
    "Ahat[len(RC)+hk_idx - 1,len(RC)+hk_idx -1] = Ah\n",
    "\n",
    "\n",
    "Bhat[len(RC)+hk_idx - 1,0] = (-np.abs(gamma*dt/(Q*3600))*Ah*\\\n",
    "                              (1+np.sign(I)*xhat[len(RC)+hk_idx - 1]))\n",
    "\n",
    "Bhat[len(RC)+hk_idx - 1,1] = Ah-1\n",
    "\n",
    "\n",
    "\n",
    "\n",
    "\n",
    "\n"
   ]
  },
  {
   "cell_type": "code",
   "execution_count": 180,
   "id": "57aa3dad",
   "metadata": {},
   "outputs": [
    {
     "data": {
      "text/plain": [
       "array([[0.5776146, 0.       , 0.       ],\n",
       "       [0.       , 1.       , 0.       ],\n",
       "       [0.       , 0.       , 1.       ]])"
      ]
     },
     "execution_count": 180,
     "metadata": {},
     "output_type": "execute_result"
    }
   ],
   "source": [
    "Ahat"
   ]
  },
  {
   "cell_type": "code",
   "execution_count": 181,
   "id": "01d02225",
   "metadata": {},
   "outputs": [
    {
     "data": {
      "text/plain": [
       "array([[ 4.22385401e-01,  0.00000000e+00],\n",
       "       [-5.72435135e-03,  0.00000000e+00],\n",
       "       [-5.38799017e-05,  0.00000000e+00]])"
      ]
     },
     "execution_count": 181,
     "metadata": {},
     "output_type": "execute_result"
    }
   ],
   "source": [
    "Bhat"
   ]
  },
  {
   "cell_type": "code",
   "execution_count": 182,
   "id": "ca470726",
   "metadata": {},
   "outputs": [
    {
     "data": {
      "text/plain": [
       "1.0"
      ]
     },
     "execution_count": 182,
     "metadata": {},
     "output_type": "execute_result"
    }
   ],
   "source": [
    "Ah"
   ]
  },
  {
   "cell_type": "code",
   "execution_count": null,
   "id": "db64031e",
   "metadata": {},
   "outputs": [],
   "source": []
  }
 ],
 "metadata": {
  "kernelspec": {
   "display_name": "Python 3 (ipykernel)",
   "language": "python",
   "name": "python3"
  },
  "language_info": {
   "codemirror_mode": {
    "name": "ipython",
    "version": 3
   },
   "file_extension": ".py",
   "mimetype": "text/x-python",
   "name": "python",
   "nbconvert_exporter": "python",
   "pygments_lexer": "ipython3",
   "version": "3.9.16"
  }
 },
 "nbformat": 4,
 "nbformat_minor": 5
}
