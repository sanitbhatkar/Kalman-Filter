{
 "cells": [
  {
   "cell_type": "markdown",
   "id": "2cf774aa",
   "metadata": {},
   "source": [
    "## Functions"
   ]
  },
  {
   "cell_type": "markdown",
   "id": "2f0bb5f0",
   "metadata": {},
   "source": [
    "__Function for getting the dynamic parameters of the cell model__"
   ]
  },
  {
   "cell_type": "code",
   "execution_count": 32,
   "id": "743657d9",
   "metadata": {},
   "outputs": [],
   "source": [
    "def get_dyn_param(data,cell_temp):    \n",
    "    \n",
    "    ind = np.where(np.array(data['temps']) == cell_temp)[0][0]\n",
    "\n",
    "    eta = data['etaParam'][ind]\n",
    "    Q = data['QParam'][ind]\n",
    "    gamma = data['GParam'][ind]\n",
    "    M0 = data['M0Param'][ind]\n",
    "    M = data['MParam'][ind]\n",
    "    R0 = data['R0Param'][ind]\n",
    "    RC = data['RCParam'][ind]\n",
    "    RC = np.exp(-np.divide(1,RC))\n",
    "    R = data['RParam'][ind]\n",
    "\n",
    "    return (eta,Q,gamma,M0,M,R0,RC,R)"
   ]
  },
  {
   "cell_type": "markdown",
   "id": "607f695e",
   "metadata": {},
   "source": [
    "__Interpolation Function__"
   ]
  },
  {
   "cell_type": "code",
   "execution_count": 33,
   "id": "1ef57546",
   "metadata": {},
   "outputs": [],
   "source": [
    "from scipy.interpolate import interp1d\n",
    "\n",
    "def interp(ocv,SOC):\n",
    "    \n",
    "    dum = interp1d(ocv,SOC)\n",
    "    \n",
    "    return dum"
   ]
  },
  {
   "cell_type": "markdown",
   "id": "f4f384f2",
   "metadata": {},
   "source": [
    "__OCV calculation for any SOC value Function__"
   ]
  },
  {
   "cell_type": "code",
   "execution_count": 34,
   "id": "836858b2",
   "metadata": {},
   "outputs": [],
   "source": [
    "def OCV_from_SOC(z,temp,SOC,OCV_0,OCV_rel):\n",
    "\n",
    "    # OCV calculation from the given SOC (Coloumb Counting)\n",
    "\n",
    "    OCV_0_z = interp(SOC,OCV_0)(z)\n",
    "    OCV_rel_z = interp(SOC,OCV_rel)(z)\n",
    "\n",
    "    ocv_z = OCV_0_z + temp*OCV_rel_z\n",
    "\n",
    "    return (ocv_z)"
   ]
  },
  {
   "cell_type": "markdown",
   "id": "dc5891ae",
   "metadata": {},
   "source": [
    "__SOC calculation for any OCV value Function__"
   ]
  },
  {
   "cell_type": "code",
   "execution_count": 35,
   "id": "14942348",
   "metadata": {},
   "outputs": [],
   "source": [
    "def SOC_from_OCV(ocv,temp,OCV,SOC_0,SOC_rel):\n",
    "\n",
    "    SOC_0_ocv = interp(OCV,SOC_0)(ocv)\n",
    "    SOC_rel_ocv = interp(OCV,SOC_rel)(ocv)\n",
    "\n",
    "    soc_ocv = SOC_0_ocv + temp*SOC_rel_ocv\n",
    "    \n",
    "\n",
    "    return (soc_ocv)"
   ]
  },
  {
   "cell_type": "markdown",
   "id": "c037a63c",
   "metadata": {},
   "source": [
    "__OCV and SOC slope__"
   ]
  },
  {
   "cell_type": "code",
   "execution_count": 36,
   "id": "cbd06af1",
   "metadata": {},
   "outputs": [],
   "source": [
    "def docv_from_soc(soc,temp,model):\n",
    "    \n",
    "    ocv = OCV_from_SOC(model['SOC'],temp,model['SOC'],model['OCV0'],model['OCVrel'])\n",
    "    docv = np.diff(ocv)\n",
    "    dsoc = np.diff(model['SOC'])[0]\n",
    "    dudz = np.divide(docv,dsoc)\n",
    "    dOCV = (np.insert(dudz,0,dudz[0]) + np.insert(dudz,-1,dudz[-1]))/2\n",
    "    dOCVz = interp(model['SOC'],dOCV)(soc)\n",
    "    \n",
    "    return dOCVz"
   ]
  },
  {
   "cell_type": "markdown",
   "id": "a6e122e6",
   "metadata": {},
   "source": [
    "__Extended Kalman Filter Algorithm__"
   ]
  },
  {
   "cell_type": "code",
   "execution_count": 37,
   "id": "6738c208",
   "metadata": {
    "scrolled": true
   },
   "outputs": [],
   "source": [
    "def ekf_fn(voltage,current,temp,ekf,model,ir_idx,hk_idx,z_idx):\n",
    "    \n",
    "    # Cell Parameters calculated from dynamic model\n",
    "\n",
    "    eta = get_dyn_param(model,temp)[0]  \n",
    "    Q = get_dyn_param(model,temp)[1]  \n",
    "    gamma = get_dyn_param(model,temp)[2]  \n",
    "    M0 = get_dyn_param(model,temp)[3]  \n",
    "    M = get_dyn_param(model,temp)[4]  \n",
    "    R0 = get_dyn_param(model,temp)[5]  \n",
    "    RC = get_dyn_param(model,temp)[6]  \n",
    "    R = get_dyn_param(model,temp)[7]\n",
    "    \n",
    "    \n",
    "    vk = voltage\n",
    "    ik = current\n",
    "\n",
    "    # If cell is charging\n",
    "    if ik<0:\n",
    "\n",
    "        ik = eta*ik\n",
    "\n",
    "    # Finding the previous model state\n",
    "\n",
    "    xhat = ekf['xhat']\n",
    "    sigmax = ekf['sigmax']\n",
    "    sigmav = ekf['sigmav']\n",
    "    sigmaw = ekf['sigmaw']\n",
    "    Qbump = ekf['Qbump']\n",
    "    I = ekf['prior_I']\n",
    "\n",
    "    if (np.abs(ik) > Q/100):\n",
    "\n",
    "        ekf['signik'] = np.sign(ik)\n",
    "\n",
    "    signik = ekf['signik']\n",
    "\n",
    "    # ============= EKF matrix calculation ============= \n",
    "\n",
    "    nx = len(xhat) + len(RC) -1\n",
    "    Ahat = np.zeros((nx,nx))\n",
    "    Bhat = np.zeros((nx,1))\n",
    "    B = np.zeros((nx,2))\n",
    "\n",
    "    # SOC EKF matrix\n",
    "    Ahat[len(RC)+z_idx - 1,len(RC)+z_idx -1] = 1\n",
    "    Bhat[z_idx + len(RC) -1 ,0] = -dt/(Q*3600)\n",
    "\n",
    "    # Diffusion current matrix\n",
    "    Ahat[:len(RC),:len(RC)] = np.diag(RC.flatten())\n",
    "    Bhat[:len(RC),0] = (1-RC).T\n",
    "\n",
    "    # Hysterisis matrix\n",
    "    Ah = np.exp(-np.abs(I*gamma*dt/(3600*Q)))\n",
    "    Ahat[len(RC)+hk_idx - 1,len(RC)+hk_idx -1] = Ah\n",
    "\n",
    "\n",
    "    Bhat[len(RC)+hk_idx - 1,0] = (-np.abs(gamma*dt/(Q*3600))*Ah*\\\n",
    "                                  (1+np.sign(I)*xhat[len(RC)+hk_idx - 1]))\n",
    "\n",
    "    B[len(RC)+hk_idx - 1,1] = Ah-1\n",
    "    B[:,0] = Bhat.flatten()\n",
    "\n",
    "\n",
    "    # ============= Step 1a =============\n",
    "    # State estimate time update\n",
    "\n",
    "    xhat = np.dot(Ahat,np.array(xhat).reshape(-1,1)) +  np.dot(B,np.array([I,np.sign(I)]).reshape(-1,1))\n",
    "    xhat[len(RC)+hk_idx - 1] = min(1,max(-1,xhat[len(RC)+hk_idx - 1].item()))\n",
    "    xhat[z_idx + len(RC) -1] = min(1.05,max(-0.05,xhat[z_idx + len(RC) -1]))\n",
    "\n",
    "    # ============= Step 1b =============\n",
    "    # Error covariance update\n",
    "\n",
    "    sigmax = np.dot(np.dot(Ahat,sigmax),Ahat.T) + np.dot(np.dot(Bhat,sigmaw),Bhat.T)\n",
    "\n",
    "\n",
    "    # ============= Step 1c =============\n",
    "    # Output Estimate\n",
    "\n",
    "    yhat = OCV_from_SOC(xhat[z_idx + len(RC) -1],temp,model['SOC'],model['OCV0'],model['OCVrel'])\n",
    "    yhat = yhat + M0*signik + M*xhat[len(RC)+hk_idx - 1] - R0*ik - R*xhat[ir_idx]\n",
    "\n",
    "\n",
    "    # ============= Step 2a =============\n",
    "    # Estimator gain matrix\n",
    "\n",
    "    Chat = np.zeros(nx)\n",
    "    Chat[z_idx] = docv_from_soc(xhat[z_idx],temp,model)\n",
    "    Chat[hk_idx] = M\n",
    "    Chat[ir_idx] = -R\n",
    "\n",
    "    Dhat = np.array(1)\n",
    "\n",
    "    sigmay = np.dot(np.dot(Chat,sigmax),Chat.T) + np.dot(np.dot(Dhat,sigmav),Dhat.T)\n",
    "\n",
    "    # Kalman gain\n",
    "    L = np.dot(sigmax,Chat.T)/sigmay\n",
    "\n",
    "    # ============= Step 2b =============\n",
    "    # State estimate measurement update\n",
    "\n",
    "    r = vk -yhat\n",
    "\n",
    "    # Checking for sensor errors\n",
    "    if (r**2 > 100*sigmay):\n",
    "\n",
    "        L[:] = 0\n",
    "\n",
    "    xhat = xhat.flatten() + L*r\n",
    "    xhat[len(RC)+hk_idx - 1] = min(1,max(-1,xhat[len(RC)+hk_idx - 1].item()))\n",
    "    xhat[z_idx + len(RC) -1] = min(1.05,max(-0.05,xhat[z_idx + len(RC) -1]))\n",
    "\n",
    "    # ============= Step 2c =============\n",
    "    # Error covariance measurement update\n",
    "    sigmax = sigmax - np.dot(np.dot(L,sigmay),L.T)\n",
    "\n",
    "    # Discarding bad voltage measurement\n",
    "    if (r**2 > 4*sigmay):\n",
    "\n",
    "        sigmax[z_idx,z_idx] = sigmax[z_idx,z_idx]*Qbump\n",
    "\n",
    "    # Performing SVD\n",
    "    U, S, V = np.linalg.svd(sigmax)\n",
    "\n",
    "    HH = np.dot(np.dot(V,np.diag(S)),V.T)\n",
    "    sigmax = (sigmax + sigmax.T + HH + HH.T)/4\n",
    "\n",
    "\n",
    "    # ============= Update Dictionary =============\n",
    "    # EKF Model\n",
    "\n",
    "    ekf['xhat'] = xhat\n",
    "    ekf['sigmax'] = sigmax\n",
    "    ekf['prior_I'] = ik\n",
    "\n",
    "    zk = xhat[z_idx]\n",
    "    zkbnd = 3*np.sqrt(sigmax[z_idx,z_idx])\n",
    "    \n",
    "    return (zk,zkbnd,ekf)"
   ]
  },
  {
   "cell_type": "markdown",
   "id": "0c4d879a",
   "metadata": {},
   "source": [
    "## Main Code"
   ]
  },
  {
   "cell_type": "markdown",
   "id": "56a8644d",
   "metadata": {},
   "source": [
    "__Model Data__"
   ]
  },
  {
   "cell_type": "code",
   "execution_count": 38,
   "id": "697027c7",
   "metadata": {},
   "outputs": [],
   "source": [
    "model = pd.read_pickle('E2model.pkl')"
   ]
  },
  {
   "cell_type": "markdown",
   "id": "002be53e",
   "metadata": {},
   "source": [
    "__Measurement Data__"
   ]
  },
  {
   "cell_type": "code",
   "execution_count": 39,
   "id": "2e3bab46",
   "metadata": {},
   "outputs": [],
   "source": [
    "measurement = pd.read_pickle('E2_DYN_15_P05.pkl')\n",
    "\n",
    "time = [measurement['script3']['time'] - measurement['script3']['time'][0][0]][0][0]\n",
    "dt = time[1] - time[0]\n",
    "current = measurement['script3']['current'][0]\n",
    "voltage = measurement['script3']['voltage'][0]\n",
    "soc_measured = measurement['script3']['soc'][0] "
   ]
  },
  {
   "cell_type": "markdown",
   "id": "f46e8c8f",
   "metadata": {},
   "source": [
    "__Initial Values for EKF__"
   ]
  },
  {
   "cell_type": "code",
   "execution_count": 40,
   "id": "bcf35f37",
   "metadata": {},
   "outputs": [],
   "source": [
    "ekf = {}\n",
    "\n",
    "# Temperature\n",
    "temp = 5 \n",
    "\n",
    "# Cell Parameters calculated from dynamic model\n",
    "\n",
    "eta = get_dyn_param(model,temp)[0]  \n",
    "Q = get_dyn_param(model,temp)[1]  \n",
    "gamma = get_dyn_param(model,temp)[2]  \n",
    "M0 = get_dyn_param(model,temp)[3]  \n",
    "M = get_dyn_param(model,temp)[4]  \n",
    "R0 = get_dyn_param(model,temp)[5]  \n",
    "RC = get_dyn_param(model,temp)[6]  \n",
    "R = get_dyn_param(model,temp)[7]"
   ]
  },
  {
   "cell_type": "code",
   "execution_count": 41,
   "id": "2fa95587",
   "metadata": {},
   "outputs": [],
   "source": [
    "# Co-variance values\n",
    "\n",
    "sigmax = np.diag([1e-6,1e-8,2e-4])\n",
    "sigmav = 2e-1\n",
    "sigmaw = 2e-1 \n",
    "\n",
    "# Cell parameters\n",
    "ir0 = 0\n",
    "h = 0\n",
    "soc = SOC_from_OCV(voltage[0],temp,model['OCV'],model['SOC0'],model['SOCrel']) \n",
    "\n",
    "# Matrix storage index\n",
    "ir_idx = 0\n",
    "hk_idx = 1\n",
    "z_idx = 2\n",
    "\n",
    "Qbump = 5\n",
    "prior_I = 0\n",
    "signik = 0"
   ]
  },
  {
   "cell_type": "code",
   "execution_count": 42,
   "id": "3afc5ea9",
   "metadata": {},
   "outputs": [],
   "source": [
    "# EKF Model\n",
    "\n",
    "ekf['xhat'] = [ir0,h,soc]\n",
    "ekf['sigmax'] = sigmax\n",
    "ekf['sigmav'] = sigmav\n",
    "ekf['sigmaw'] = sigmaw\n",
    "ekf['Qbump'] = Qbump\n",
    "ekf['prior_I'] = prior_I\n",
    "ekf['signik'] = signik"
   ]
  },
  {
   "cell_type": "code",
   "execution_count": 43,
   "id": "5c2dac82",
   "metadata": {},
   "outputs": [],
   "source": [
    "# Storage variables\n",
    "\n",
    "sochat = np.zeros(len(soc_measured))\n",
    "socbound = np.zeros(len(soc_measured))"
   ]
  },
  {
   "cell_type": "code",
   "execution_count": 44,
   "id": "57db7090",
   "metadata": {},
   "outputs": [
    {
     "ename": "ValueError",
     "evalue": "A value in x_new is below the interpolation range.",
     "output_type": "error",
     "traceback": [
      "\u001b[1;31m---------------------------------------------------------------------------\u001b[0m",
      "\u001b[1;31mValueError\u001b[0m                                Traceback (most recent call last)",
      "\u001b[1;32m~\\AppData\\Local\\Temp\\ipykernel_5264\\597455737.py\u001b[0m in \u001b[0;36m<module>\u001b[1;34m\u001b[0m\n\u001b[0;32m      4\u001b[0m     \u001b[0mik\u001b[0m \u001b[1;33m=\u001b[0m \u001b[0mcurrent\u001b[0m\u001b[1;33m[\u001b[0m\u001b[0mi\u001b[0m\u001b[1;33m]\u001b[0m\u001b[1;33m\u001b[0m\u001b[1;33m\u001b[0m\u001b[0m\n\u001b[0;32m      5\u001b[0m \u001b[1;33m\u001b[0m\u001b[0m\n\u001b[1;32m----> 6\u001b[1;33m     \u001b[1;33m[\u001b[0m\u001b[0msochat\u001b[0m\u001b[1;33m[\u001b[0m\u001b[0mi\u001b[0m\u001b[1;33m]\u001b[0m\u001b[1;33m,\u001b[0m\u001b[0msocbound\u001b[0m\u001b[1;33m[\u001b[0m\u001b[0mi\u001b[0m\u001b[1;33m]\u001b[0m\u001b[1;33m,\u001b[0m\u001b[0mekf\u001b[0m\u001b[1;33m]\u001b[0m \u001b[1;33m=\u001b[0m \u001b[0mekf_fn\u001b[0m\u001b[1;33m(\u001b[0m\u001b[0mvk\u001b[0m\u001b[1;33m,\u001b[0m\u001b[0mik\u001b[0m\u001b[1;33m,\u001b[0m\u001b[0mtemp\u001b[0m\u001b[1;33m,\u001b[0m\u001b[0mekf\u001b[0m\u001b[1;33m,\u001b[0m\u001b[0mmodel\u001b[0m\u001b[1;33m,\u001b[0m\u001b[0mir_idx\u001b[0m\u001b[1;33m,\u001b[0m\u001b[0mhk_idx\u001b[0m\u001b[1;33m,\u001b[0m\u001b[0mz_idx\u001b[0m\u001b[1;33m)\u001b[0m\u001b[1;33m\u001b[0m\u001b[1;33m\u001b[0m\u001b[0m\n\u001b[0m",
      "\u001b[1;32m~\\AppData\\Local\\Temp\\ipykernel_5264\\1139896129.py\u001b[0m in \u001b[0;36mekf_fn\u001b[1;34m(voltage, current, temp, ekf, model, ir_idx, hk_idx, z_idx)\u001b[0m\n\u001b[0;32m     79\u001b[0m     \u001b[1;31m# Output Estimate\u001b[0m\u001b[1;33m\u001b[0m\u001b[1;33m\u001b[0m\u001b[0m\n\u001b[0;32m     80\u001b[0m \u001b[1;33m\u001b[0m\u001b[0m\n\u001b[1;32m---> 81\u001b[1;33m     \u001b[0myhat\u001b[0m \u001b[1;33m=\u001b[0m \u001b[0mOCV_from_SOC\u001b[0m\u001b[1;33m(\u001b[0m\u001b[0mxhat\u001b[0m\u001b[1;33m[\u001b[0m\u001b[0mz_idx\u001b[0m \u001b[1;33m+\u001b[0m \u001b[0mlen\u001b[0m\u001b[1;33m(\u001b[0m\u001b[0mRC\u001b[0m\u001b[1;33m)\u001b[0m \u001b[1;33m-\u001b[0m\u001b[1;36m1\u001b[0m\u001b[1;33m]\u001b[0m\u001b[1;33m,\u001b[0m\u001b[0mtemp\u001b[0m\u001b[1;33m,\u001b[0m\u001b[0mmodel\u001b[0m\u001b[1;33m[\u001b[0m\u001b[1;34m'SOC'\u001b[0m\u001b[1;33m]\u001b[0m\u001b[1;33m,\u001b[0m\u001b[0mmodel\u001b[0m\u001b[1;33m[\u001b[0m\u001b[1;34m'OCV0'\u001b[0m\u001b[1;33m]\u001b[0m\u001b[1;33m,\u001b[0m\u001b[0mmodel\u001b[0m\u001b[1;33m[\u001b[0m\u001b[1;34m'OCVrel'\u001b[0m\u001b[1;33m]\u001b[0m\u001b[1;33m)\u001b[0m\u001b[1;33m\u001b[0m\u001b[1;33m\u001b[0m\u001b[0m\n\u001b[0m\u001b[0;32m     82\u001b[0m     \u001b[0myhat\u001b[0m \u001b[1;33m=\u001b[0m \u001b[0myhat\u001b[0m \u001b[1;33m+\u001b[0m \u001b[0mM0\u001b[0m\u001b[1;33m*\u001b[0m\u001b[0msignik\u001b[0m \u001b[1;33m+\u001b[0m \u001b[0mM\u001b[0m\u001b[1;33m*\u001b[0m\u001b[0mxhat\u001b[0m\u001b[1;33m[\u001b[0m\u001b[0mlen\u001b[0m\u001b[1;33m(\u001b[0m\u001b[0mRC\u001b[0m\u001b[1;33m)\u001b[0m\u001b[1;33m+\u001b[0m\u001b[0mhk_idx\u001b[0m \u001b[1;33m-\u001b[0m \u001b[1;36m1\u001b[0m\u001b[1;33m]\u001b[0m \u001b[1;33m-\u001b[0m \u001b[0mR0\u001b[0m\u001b[1;33m*\u001b[0m\u001b[0mik\u001b[0m \u001b[1;33m-\u001b[0m \u001b[0mR\u001b[0m\u001b[1;33m*\u001b[0m\u001b[0mxhat\u001b[0m\u001b[1;33m[\u001b[0m\u001b[0mir_idx\u001b[0m\u001b[1;33m]\u001b[0m\u001b[1;33m\u001b[0m\u001b[1;33m\u001b[0m\u001b[0m\n\u001b[0;32m     83\u001b[0m \u001b[1;33m\u001b[0m\u001b[0m\n",
      "\u001b[1;32m~\\AppData\\Local\\Temp\\ipykernel_5264\\2717993019.py\u001b[0m in \u001b[0;36mOCV_from_SOC\u001b[1;34m(z, temp, SOC, OCV_0, OCV_rel)\u001b[0m\n\u001b[0;32m      3\u001b[0m     \u001b[1;31m# OCV calculation from the given SOC (Coloumb Counting)\u001b[0m\u001b[1;33m\u001b[0m\u001b[1;33m\u001b[0m\u001b[0m\n\u001b[0;32m      4\u001b[0m \u001b[1;33m\u001b[0m\u001b[0m\n\u001b[1;32m----> 5\u001b[1;33m     \u001b[0mOCV_0_z\u001b[0m \u001b[1;33m=\u001b[0m \u001b[0minterp\u001b[0m\u001b[1;33m(\u001b[0m\u001b[0mSOC\u001b[0m\u001b[1;33m,\u001b[0m\u001b[0mOCV_0\u001b[0m\u001b[1;33m)\u001b[0m\u001b[1;33m(\u001b[0m\u001b[0mz\u001b[0m\u001b[1;33m)\u001b[0m\u001b[1;33m\u001b[0m\u001b[1;33m\u001b[0m\u001b[0m\n\u001b[0m\u001b[0;32m      6\u001b[0m     \u001b[0mOCV_rel_z\u001b[0m \u001b[1;33m=\u001b[0m \u001b[0minterp\u001b[0m\u001b[1;33m(\u001b[0m\u001b[0mSOC\u001b[0m\u001b[1;33m,\u001b[0m\u001b[0mOCV_rel\u001b[0m\u001b[1;33m)\u001b[0m\u001b[1;33m(\u001b[0m\u001b[0mz\u001b[0m\u001b[1;33m)\u001b[0m\u001b[1;33m\u001b[0m\u001b[1;33m\u001b[0m\u001b[0m\n\u001b[0;32m      7\u001b[0m \u001b[1;33m\u001b[0m\u001b[0m\n",
      "\u001b[1;32m~\\Anaconda3\\lib\\site-packages\\scipy\\interpolate\\polyint.py\u001b[0m in \u001b[0;36m__call__\u001b[1;34m(self, x)\u001b[0m\n\u001b[0;32m     76\u001b[0m         \"\"\"\n\u001b[0;32m     77\u001b[0m         \u001b[0mx\u001b[0m\u001b[1;33m,\u001b[0m \u001b[0mx_shape\u001b[0m \u001b[1;33m=\u001b[0m \u001b[0mself\u001b[0m\u001b[1;33m.\u001b[0m\u001b[0m_prepare_x\u001b[0m\u001b[1;33m(\u001b[0m\u001b[0mx\u001b[0m\u001b[1;33m)\u001b[0m\u001b[1;33m\u001b[0m\u001b[1;33m\u001b[0m\u001b[0m\n\u001b[1;32m---> 78\u001b[1;33m         \u001b[0my\u001b[0m \u001b[1;33m=\u001b[0m \u001b[0mself\u001b[0m\u001b[1;33m.\u001b[0m\u001b[0m_evaluate\u001b[0m\u001b[1;33m(\u001b[0m\u001b[0mx\u001b[0m\u001b[1;33m)\u001b[0m\u001b[1;33m\u001b[0m\u001b[1;33m\u001b[0m\u001b[0m\n\u001b[0m\u001b[0;32m     79\u001b[0m         \u001b[1;32mreturn\u001b[0m \u001b[0mself\u001b[0m\u001b[1;33m.\u001b[0m\u001b[0m_finish_y\u001b[0m\u001b[1;33m(\u001b[0m\u001b[0my\u001b[0m\u001b[1;33m,\u001b[0m \u001b[0mx_shape\u001b[0m\u001b[1;33m)\u001b[0m\u001b[1;33m\u001b[0m\u001b[1;33m\u001b[0m\u001b[0m\n\u001b[0;32m     80\u001b[0m \u001b[1;33m\u001b[0m\u001b[0m\n",
      "\u001b[1;32m~\\Anaconda3\\lib\\site-packages\\scipy\\interpolate\\interpolate.py\u001b[0m in \u001b[0;36m_evaluate\u001b[1;34m(self, x_new)\u001b[0m\n\u001b[0;32m    682\u001b[0m         \u001b[0my_new\u001b[0m \u001b[1;33m=\u001b[0m \u001b[0mself\u001b[0m\u001b[1;33m.\u001b[0m\u001b[0m_call\u001b[0m\u001b[1;33m(\u001b[0m\u001b[0mself\u001b[0m\u001b[1;33m,\u001b[0m \u001b[0mx_new\u001b[0m\u001b[1;33m)\u001b[0m\u001b[1;33m\u001b[0m\u001b[1;33m\u001b[0m\u001b[0m\n\u001b[0;32m    683\u001b[0m         \u001b[1;32mif\u001b[0m \u001b[1;32mnot\u001b[0m \u001b[0mself\u001b[0m\u001b[1;33m.\u001b[0m\u001b[0m_extrapolate\u001b[0m\u001b[1;33m:\u001b[0m\u001b[1;33m\u001b[0m\u001b[1;33m\u001b[0m\u001b[0m\n\u001b[1;32m--> 684\u001b[1;33m             \u001b[0mbelow_bounds\u001b[0m\u001b[1;33m,\u001b[0m \u001b[0mabove_bounds\u001b[0m \u001b[1;33m=\u001b[0m \u001b[0mself\u001b[0m\u001b[1;33m.\u001b[0m\u001b[0m_check_bounds\u001b[0m\u001b[1;33m(\u001b[0m\u001b[0mx_new\u001b[0m\u001b[1;33m)\u001b[0m\u001b[1;33m\u001b[0m\u001b[1;33m\u001b[0m\u001b[0m\n\u001b[0m\u001b[0;32m    685\u001b[0m             \u001b[1;32mif\u001b[0m \u001b[0mlen\u001b[0m\u001b[1;33m(\u001b[0m\u001b[0my_new\u001b[0m\u001b[1;33m)\u001b[0m \u001b[1;33m>\u001b[0m \u001b[1;36m0\u001b[0m\u001b[1;33m:\u001b[0m\u001b[1;33m\u001b[0m\u001b[1;33m\u001b[0m\u001b[0m\n\u001b[0;32m    686\u001b[0m                 \u001b[1;31m# Note fill_value must be broadcast up to the proper size\u001b[0m\u001b[1;33m\u001b[0m\u001b[1;33m\u001b[0m\u001b[0m\n",
      "\u001b[1;32m~\\Anaconda3\\lib\\site-packages\\scipy\\interpolate\\interpolate.py\u001b[0m in \u001b[0;36m_check_bounds\u001b[1;34m(self, x_new)\u001b[0m\n\u001b[0;32m    711\u001b[0m         \u001b[1;31m# !! Could provide more information about which values are out of bounds\u001b[0m\u001b[1;33m\u001b[0m\u001b[1;33m\u001b[0m\u001b[0m\n\u001b[0;32m    712\u001b[0m         \u001b[1;32mif\u001b[0m \u001b[0mself\u001b[0m\u001b[1;33m.\u001b[0m\u001b[0mbounds_error\u001b[0m \u001b[1;32mand\u001b[0m \u001b[0mbelow_bounds\u001b[0m\u001b[1;33m.\u001b[0m\u001b[0many\u001b[0m\u001b[1;33m(\u001b[0m\u001b[1;33m)\u001b[0m\u001b[1;33m:\u001b[0m\u001b[1;33m\u001b[0m\u001b[1;33m\u001b[0m\u001b[0m\n\u001b[1;32m--> 713\u001b[1;33m             raise ValueError(\"A value in x_new is below the interpolation \"\n\u001b[0m\u001b[0;32m    714\u001b[0m                              \"range.\")\n\u001b[0;32m    715\u001b[0m         \u001b[1;32mif\u001b[0m \u001b[0mself\u001b[0m\u001b[1;33m.\u001b[0m\u001b[0mbounds_error\u001b[0m \u001b[1;32mand\u001b[0m \u001b[0mabove_bounds\u001b[0m\u001b[1;33m.\u001b[0m\u001b[0many\u001b[0m\u001b[1;33m(\u001b[0m\u001b[1;33m)\u001b[0m\u001b[1;33m:\u001b[0m\u001b[1;33m\u001b[0m\u001b[1;33m\u001b[0m\u001b[0m\n",
      "\u001b[1;31mValueError\u001b[0m: A value in x_new is below the interpolation range."
     ]
    }
   ],
   "source": [
    "for i in range(len(voltage)):\n",
    "\n",
    "    vk = voltage[i]\n",
    "    ik = current[i]\n",
    "\n",
    "    [sochat[i],socbound[i],ekf] = ekf_fn(vk,ik,temp,ekf,model,ir_idx,hk_idx,z_idx)\n"
   ]
  },
  {
   "cell_type": "code",
   "execution_count": null,
   "id": "0263d1bf",
   "metadata": {},
   "outputs": [],
   "source": [
    "plt.plot(time[1:]/60,soc_measured[:-1]*100)\n",
    "plt.plot(time[1:]/60,sochat[:-1]*100)\n",
    "plt.xlabel('Time (min)')\n",
    "plt.ylabel('SOC (%)')\n",
    "plt.legend(['Measured','EKF'])\n",
    "\n",
    "# plt.plot((sochat-socbound)*100)\n",
    "# plt.plot((sochat+socbound)*100)\n",
    "\n",
    "plt.show()"
   ]
  },
  {
   "cell_type": "code",
   "execution_count": null,
   "id": "8f3e536f",
   "metadata": {},
   "outputs": [],
   "source": [
    "plt.plot(np.abs(soc_measured - sochat))"
   ]
  },
  {
   "cell_type": "code",
   "execution_count": null,
   "id": "11c641a2",
   "metadata": {},
   "outputs": [],
   "source": []
  }
 ],
 "metadata": {
  "kernelspec": {
   "display_name": "Python 3 (ipykernel)",
   "language": "python",
   "name": "python3"
  },
  "language_info": {
   "codemirror_mode": {
    "name": "ipython",
    "version": 3
   },
   "file_extension": ".py",
   "mimetype": "text/x-python",
   "name": "python",
   "nbconvert_exporter": "python",
   "pygments_lexer": "ipython3",
   "version": "3.9.16"
  }
 },
 "nbformat": 4,
 "nbformat_minor": 5
}
